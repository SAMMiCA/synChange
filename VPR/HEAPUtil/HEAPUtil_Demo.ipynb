{
  "cells": [
    {
      "cell_type": "markdown",
      "metadata": {
        "id": "4KXpsvmvlk5Y"
      },
      "source": [
        "# HEAPUtil"
      ]
    },
    {
      "cell_type": "markdown",
      "metadata": {
        "id": "rBnbwTjJ9ppc"
      },
      "source": [
        "Please add the provided Berlin Dataset Google Drive folder as a shortcut to your Google Drive and mount it to this Colab notebook. \n",
        "\n",
        "Furthermore, change the paths for the below executables accordingly.\n",
        "\n",
        "Please ensure that the Colab notebook runtime is set to GPU."
      ]
    },
    {
      "cell_type": "markdown",
      "metadata": {
        "id": "Or3_bwxU9KNG"
      },
      "source": [
        "## NetVLAD Extractions"
      ]
    },
    {
      "cell_type": "code",
      "execution_count": null,
      "metadata": {
        "id": "7Z8_27Tz-Q0j"
      },
      "outputs": [],
      "source": [
        "python NetVLAD/main.py --resume ./data/NetVLAD/netvlad-checkpoint-cc16 `\n",
        "--root_dir ./ `\n",
        "--save --save_path ./data/NetVLAD `\n",
        "--dataset changesim"
      ]
    },
    {
      "cell_type": "markdown",
      "metadata": {
        "id": "7E6sCv8inr34"
      },
      "source": [
        "## Environment- and Place-Specific Utility"
      ]
    },
    {
      "cell_type": "code",
      "execution_count": null,
      "metadata": {
        "id": "8AKAJ4hg5uwu"
      },
      "outputs": [],
      "source": [
        "python utility.py --root_dir ./ `\n",
        "--netvlad_extracts_path ./data/NetVLAD `\n",
        "--save_path ./data/Utility `\n",
        "--dataset changesim `\n",
        "--save_viz"
      ]
    },
    {
      "cell_type": "markdown",
      "metadata": {
        "id": "_xQaCfvv9qcE"
      },
      "source": [
        "## SuperPoint Extractions"
      ]
    },
    {
      "cell_type": "code",
      "execution_count": null,
      "metadata": {
        "id": "AR1WNPX19s7G"
      },
      "outputs": [],
      "source": [
        "python generate_path_lists.py --root_dir ./ `\n",
        "--netvlad_predictions ./data/NetVLAD/netvlad_preds.npy `\n",
        "--save_path ./data `\n",
        "--dataset changesim"
      ]
    },
    {
      "cell_type": "code",
      "execution_count": null,
      "metadata": {
        "id": "ZISR1Yyr-N43"
      },
      "outputs": [],
      "source": [
        "python SuperGlue/superpoint_extraction.py --input_images ./data/q_list.txt `\n",
        "--split query `\n",
        "--output_dir ./data/SuperPoint\n",
        "\n",
        "python SuperGlue/superpoint_extraction.py --input_images ./data/db_list.txt `\n",
        "--split db `\n",
        "--output_dir ./data/SuperPoint\n"
      ]
    },
    {
      "cell_type": "markdown",
      "metadata": {
        "id": "OMtIrO_1is7O"
      },
      "source": [
        "## Local Feature Matching"
      ]
    },
    {
      "cell_type": "code",
      "execution_count": null,
      "metadata": {
        "id": "5swWpFKEiuwC"
      },
      "outputs": [],
      "source": [
        "python local_feature_matching.py --input_dir ./ `\n",
        "--output_dir ./data/LFM/Utility `\n",
        "--netvlad_extracts_path ./data/NetVLAD `\n",
        "--superpoint_extracts_path ./data/SuperPoint `\n",
        "--utility_path ./data/Utility `\n",
        "--es_utility --ps_utility --viz `\n",
        "--dataset changesim"
      ]
    }
  ],
  "metadata": {
    "accelerator": "GPU",
    "colab": {
      "collapsed_sections": [],
      "name": "HEAPUtil_Demo.ipynb",
      "provenance": []
    },
    "interpreter": {
      "hash": "059dc92679cfd75ade111d6d3cec66d17b52f821a87f70f1575040bf04be7e41"
    },
    "kernelspec": {
      "display_name": "Python 3.8.10 64-bit ('patchnetvlad': conda)",
      "name": "python3"
    },
    "language_info": {
      "codemirror_mode": {
        "name": "ipython",
        "version": 3
      },
      "file_extension": ".py",
      "mimetype": "text/x-python",
      "name": "python",
      "nbconvert_exporter": "python",
      "pygments_lexer": "ipython3",
      "version": "3.8.10"
    }
  },
  "nbformat": 4,
  "nbformat_minor": 2
}
